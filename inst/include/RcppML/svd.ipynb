{
 "cells": [
  {
   "attachments": {},
   "cell_type": "markdown",
   "metadata": {},
   "source": [
    "SVD Proof-of-Concept Notebook\n",
    "=============================\n",
    "\n",
    "This notebook is just to make sure my SVD algorithm is correct, while I figure out how to export the C++ class to R for testing."
   ]
  },
  {
   "cell_type": "code",
   "execution_count": 34,
   "metadata": {},
   "outputs": [
    {
     "name": "stdout",
     "output_type": "stream",
     "text": [
      "(100, 100)\n"
     ]
    }
   ],
   "source": [
    "# Load modules and data\n",
    "import numpy as np\n",
    "\n",
    "L1 = 0\n",
    "\n",
    "N = 1000\n",
    "M = 100\n",
    "K = 5\n",
    "\n",
    "A = np.random.uniform(-1.0, 1.0, (M, N)) * 1000\n",
    "\n",
    "U = np.random.uniform(-1.0, 1.0, (M, K))\n",
    "V = np.zeros((K, N))\n",
    "\n",
    "U_np, S_np, V_np = np.linalg.svd(A, full_matrices=False)\n",
    "U_np = U_np * S_np[..., None, :]\n",
    "print(U_np.shape)\n",
    "\n",
    "TOL = 1e-9\n",
    "MAX_ITER = 50"
   ]
  },
  {
   "cell_type": "code",
   "execution_count": 35,
   "metadata": {},
   "outputs": [],
   "source": [
    "# Error measurement\n",
    "def mse(A, U, V):\n",
    "    D = A - np.matmul(U, V)\n",
    "    D = D ** 2\n",
    "    return np.sum(D) / (D.shape[0] * D.shape[1])\n",
    "\n",
    "# L2 norm\n",
    "def norm(x):\n",
    "    return np.sqrt(np.sum(x * x))"
   ]
  },
  {
   "cell_type": "code",
   "execution_count": 36,
   "metadata": {},
   "outputs": [
    {
     "name": "stdout",
     "output_type": "stream",
     "text": [
      "Initial model error:\t332590.8820699464\n",
      "Model error after K=1:\t326805.87493571127\n",
      "numpy SVD implementation error: 326796.9214011937\n",
      "\n",
      "Model error after K=2:\t321300.7842912679\n",
      "numpy SVD implementation error: 321246.9324270416\n",
      "\n",
      "Model error after K=3:\t315776.44842892664\n",
      "numpy SVD implementation error: 315740.96638261696\n",
      "\n",
      "Model error after K=4:\t310491.37285051664\n",
      "numpy SVD implementation error: 310342.5582955027\n",
      "\n",
      "Model error after K=5:\t305106.3768627249\n",
      "numpy SVD implementation error: 305088.12044437445\n",
      "\n"
     ]
    }
   ],
   "source": [
    "# Solve each K in turn \n",
    "print(f\"Initial model error:\\t{mse(A, U, V)}\")\n",
    "for k in range(K):\n",
    "    for iter in range(MAX_ITER):\n",
    "        if k == 0:\n",
    "            # Update V\n",
    "            a = np.matmul(U[:, 0].transpose(), U[:, 0])\n",
    "            b = np.matmul(A.transpose(), U[:, 0]) - L1\n",
    "            \n",
    "            V[0, :] = b / a\n",
    "\n",
    "            # Scale V\n",
    "            V[0, :] = V[0, :] / norm(V[0, :])\n",
    "\n",
    "            # Update U\n",
    "            a =  np.matmul(V[0, :], V[0, :].transpose())\n",
    "            b = np.matmul(A, V[0, :].transpose()) - L1\n",
    "\n",
    "            U[:, 0] = b / a\n",
    "\n",
    "            # Scale U\n",
    "            d =  norm(U[0, :])\n",
    "            U[:, 0] = U[:, 0] / d\n",
    "\n",
    "        else:\n",
    "            # Update V\n",
    "            a = np.matmul(U[:, :k+1].transpose(), U[:, k])\n",
    "            b = np.matmul(U[:, k].transpose(), A) - L1\n",
    "\n",
    "            for n in range(N):\n",
    "                for i in range(k):\n",
    "                    b[n] -= a[i] * V[i,n]\n",
    "\n",
    "            V[k, :] = b / a[k]\n",
    "\n",
    "            # Scale V\n",
    "            V[k, :] = V[k, :] / norm(V[k, :])\n",
    "\n",
    "            # Update U\n",
    "            a =  np.matmul(V[k, :], V[:k+1, :].transpose())\n",
    "            b = np.matmul(A, V[k, :].transpose()) - L1\n",
    "               \n",
    "            for m in range(M):\n",
    "                for i in range(k):\n",
    "                    b[m] -= a[i] * U[m,i]\n",
    "\n",
    "            U[:, k] = b / a[k]\n",
    "\n",
    "            # Scale U\n",
    "            d =  norm(U[:, k])\n",
    "            U[:, k] = U[:, k] / d\n",
    "\n",
    "    # 'Unscale' U\n",
    "    U[:, k] = U[:, k] * d\n",
    "\n",
    "    print(f\"Model error after K={k+1}:\\t{mse(A, U, V)}\")\n",
    "    print(f\"numpy SVD implementation error: {mse(A, U_np[:, :k+1], V_np[:k+1, :])}\")\n",
    "    print()"
   ]
  }
 ],
 "metadata": {
  "kernelspec": {
   "display_name": "Python 3",
   "language": "python",
   "name": "python3"
  },
  "language_info": {
   "codemirror_mode": {
    "name": "ipython",
    "version": 3
   },
   "file_extension": ".py",
   "mimetype": "text/x-python",
   "name": "python",
   "nbconvert_exporter": "python",
   "pygments_lexer": "ipython3",
   "version": "3.11.1"
  },
  "orig_nbformat": 4,
  "vscode": {
   "interpreter": {
    "hash": "7acf0e7c55703b1d62125093779d76af3b1e04738383ec7b3594d323472f8b38"
   }
  }
 },
 "nbformat": 4,
 "nbformat_minor": 2
}
