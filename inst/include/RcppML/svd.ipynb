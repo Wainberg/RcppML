{
 "cells": [
  {
   "attachments": {},
   "cell_type": "markdown",
   "metadata": {},
   "source": [
    "SVD Proof-of-Concept Notebook\n",
    "=============================\n",
    "\n",
    "This notebook is just to make sure my SVD algorithm is correct, while I figure out how to export the C++ class to R for testing."
   ]
  },
  {
   "cell_type": "code",
   "execution_count": 31,
   "metadata": {},
   "outputs": [
    {
     "name": "stdout",
     "output_type": "stream",
     "text": [
      "(100, 100)\n"
     ]
    }
   ],
   "source": [
    "# Load modules and data\n",
    "import numpy as np\n",
    "\n",
    "L1 = 0\n",
    "\n",
    "N = 1000\n",
    "M = 100\n",
    "K = 5\n",
    "\n",
    "A = np.random.uniform(-1.0, 1.0, (M, N)) * 1000\n",
    "\n",
    "U = np.random.uniform(-1.0, 1.0, (M, K))\n",
    "V = np.zeros((K, N))\n",
    "\n",
    "U_np, S_np, V_np = np.linalg.svd(A, full_matrices=False)\n",
    "U_np = U_np * S_np[..., None, :]\n",
    "print(U_np.shape)\n",
    "\n",
    "TOL = 1e-9\n",
    "MAX_ITER = 50"
   ]
  },
  {
   "cell_type": "code",
   "execution_count": 32,
   "metadata": {},
   "outputs": [],
   "source": [
    "# Error measurement\n",
    "def mse(A, U, V):\n",
    "    D = A - np.matmul(U, V)\n",
    "    D = D ** 2\n",
    "    return np.sum(D) / (D.shape[0] * D.shape[1])\n",
    "\n",
    "# L2 norm\n",
    "def norm(x):\n",
    "    return np.sqrt(np.sum(x * x))"
   ]
  },
  {
   "cell_type": "code",
   "execution_count": 33,
   "metadata": {},
   "outputs": [
    {
     "name": "stdout",
     "output_type": "stream",
     "text": [
      "Initial model error:\t333657.1378083372\n",
      "Model error after K=1:\t327985.201266717\n",
      "numpy SVD implementation error: 327981.25055388844\n",
      "\n",
      "Model error after K=2:\t322489.3834138897\n",
      "numpy SVD implementation error: 322470.0390760356\n",
      "\n"
     ]
    },
    {
     "ename": "ValueError",
     "evalue": "operands could not be broadcast together with shapes (2,) (2,1000) ",
     "output_type": "error",
     "traceback": [
      "\u001b[1;31m---------------------------------------------------------------------------\u001b[0m",
      "\u001b[1;31mValueError\u001b[0m                                Traceback (most recent call last)",
      "Cell \u001b[1;32mIn[33], line 30\u001b[0m\n\u001b[0;32m     27\u001b[0m a \u001b[39m=\u001b[39m np\u001b[39m.\u001b[39mmatmul(U[:, :k\u001b[39m+\u001b[39m\u001b[39m1\u001b[39m]\u001b[39m.\u001b[39mtranspose(), U[:, k])\n\u001b[0;32m     28\u001b[0m b \u001b[39m=\u001b[39m np\u001b[39m.\u001b[39mmatmul(U[:, k]\u001b[39m.\u001b[39mtranspose(), A) \u001b[39m-\u001b[39m L1\n\u001b[1;32m---> 30\u001b[0m b \u001b[39m-\u001b[39m\u001b[39m=\u001b[39m np\u001b[39m.\u001b[39msum(a[:\u001b[39m-\u001b[39;49m\u001b[39m1\u001b[39;49m] \u001b[39m*\u001b[39;49m V[:k, :], axis\u001b[39m=\u001b[39m\u001b[39m0\u001b[39m)\n\u001b[0;32m     31\u001b[0m V[k, :] \u001b[39m=\u001b[39m b \u001b[39m/\u001b[39m a[k]\n\u001b[0;32m     33\u001b[0m \u001b[39m# Scale V\u001b[39;00m\n",
      "\u001b[1;31mValueError\u001b[0m: operands could not be broadcast together with shapes (2,) (2,1000) "
     ]
    }
   ],
   "source": [
    "# Solve each K in turn \n",
    "print(f\"Initial model error:\\t{mse(A, U, V)}\")\n",
    "for k in range(K):\n",
    "    for iter in range(MAX_ITER):\n",
    "        if k == 0:\n",
    "            # Update V\n",
    "            a = np.matmul(U[:, 0].transpose(), U[:, 0])\n",
    "            b = np.matmul(A.transpose(), U[:, 0]) - L1\n",
    "            \n",
    "            V[0, :] = b / a\n",
    "\n",
    "            # Scale V\n",
    "            V[0, :] = V[0, :] / norm(V[0, :])\n",
    "\n",
    "            # Update U\n",
    "            a =  np.matmul(V[0, :], V[0, :].transpose())\n",
    "            b = np.matmul(A, V[0, :].transpose()) - L1\n",
    "\n",
    "            U[:, 0] = b / a\n",
    "\n",
    "            # Scale U\n",
    "            d =  norm(U[0, :])\n",
    "            U[:, 0] = U[:, 0] / d\n",
    "\n",
    "        else:\n",
    "            # Update V\n",
    "            a = np.matmul(U[:, :k+1].transpose(), U[:, k])\n",
    "            b = np.matmul(U[:, k].transpose(), A) - L1\n",
    "\n",
    "            for n in range(N):\n",
    "                for i in range(k):\n",
    "                    b[n] -= a[i] * V[i,n]\n",
    "\n",
    "            V[k, :] = b / a[k]\n",
    "\n",
    "            # Scale V\n",
    "            V[k, :] = V[k, :] / norm(V[k, :])\n",
    "\n",
    "            # Update U\n",
    "            a =  np.matmul(V[k, :], V[:k+1, :].transpose())\n",
    "            b = np.matmul(A, V[k, :].transpose()) - L1\n",
    "               \n",
    "            for m in range(M):\n",
    "                for i in range(k):\n",
    "                    b[m] -= a[i] * U[m,i]\n",
    "\n",
    "            U[:, k] = b / a[k]\n",
    "\n",
    "            # Scale U\n",
    "            d =  norm(U[:, k])\n",
    "            U[:, k] = U[:, k] / d\n",
    "\n",
    "    # 'Unscale' U\n",
    "    U[:, k] = U[:, k] * d\n",
    "\n",
    "    print(f\"Model error after K={k+1}:\\t{mse(A, U, V)}\")\n",
    "    print(f\"numpy SVD implementation error: {mse(A, U_np[:, :k+1], V_np[:k+1, :])}\")\n",
    "    print()"
   ]
  }
 ],
 "metadata": {
  "kernelspec": {
   "display_name": "Python 3",
   "language": "python",
   "name": "python3"
  },
  "language_info": {
   "codemirror_mode": {
    "name": "ipython",
    "version": 3
   },
   "file_extension": ".py",
   "mimetype": "text/x-python",
   "name": "python",
   "nbconvert_exporter": "python",
   "pygments_lexer": "ipython3",
   "version": "3.11.1"
  },
  "orig_nbformat": 4,
  "vscode": {
   "interpreter": {
    "hash": "7acf0e7c55703b1d62125093779d76af3b1e04738383ec7b3594d323472f8b38"
   }
  }
 },
 "nbformat": 4,
 "nbformat_minor": 2
}
